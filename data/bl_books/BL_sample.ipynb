{
 "cells": [
  {
   "cell_type": "markdown",
   "metadata": {},
   "source": [
    "# BL books metadata"
   ]
  },
  {
   "cell_type": "markdown",
   "metadata": {},
   "source": [
    "This notebook contains the code that was used to create a sample of books from the British Library 10th century books collection."
   ]
  },
  {
   "cell_type": "code",
   "execution_count": 27,
   "metadata": {},
   "outputs": [],
   "source": [
    "# imports\n",
    "\n",
    "import pandas as pd\n",
    "import json, os, shutil, codecs"
   ]
  },
  {
   "cell_type": "code",
   "execution_count": 2,
   "metadata": {},
   "outputs": [],
   "source": [
    "# read metadata file\n",
    "\n",
    "filename = \"MicrosoftBooks_filtered_list.csv\"\n",
    "df = pd.read_csv(filename, delimiter=\";\")"
   ]
  },
  {
   "cell_type": "code",
   "execution_count": 3,
   "metadata": {},
   "outputs": [
    {
     "data": {
      "text/html": [
       "<div>\n",
       "<style scoped>\n",
       "    .dataframe tbody tr th:only-of-type {\n",
       "        vertical-align: middle;\n",
       "    }\n",
       "\n",
       "    .dataframe tbody tr th {\n",
       "        vertical-align: top;\n",
       "    }\n",
       "\n",
       "    .dataframe thead th {\n",
       "        text-align: right;\n",
       "    }\n",
       "</style>\n",
       "<table border=\"1\" class=\"dataframe\">\n",
       "  <thead>\n",
       "    <tr style=\"text-align: right;\">\n",
       "      <th></th>\n",
       "      <th>Aleph system no.</th>\n",
       "      <th>Country code</th>\n",
       "      <th>Language code (008)</th>\n",
       "      <th>Language code (041)</th>\n",
       "      <th>DDC</th>\n",
       "      <th>Personal author</th>\n",
       "      <th>Corporate author</th>\n",
       "      <th>Title</th>\n",
       "      <th>Edition</th>\n",
       "      <th>Imprint</th>\n",
       "      <th>Series</th>\n",
       "      <th>Subjects</th>\n",
       "      <th>Other personal authors</th>\n",
       "      <th>Other corporate authors</th>\n",
       "      <th>DOM ID</th>\n",
       "      <th>Type</th>\n",
       "      <th>Genre</th>\n",
       "    </tr>\n",
       "  </thead>\n",
       "  <tbody>\n",
       "    <tr>\n",
       "      <th>0</th>\n",
       "      <td>14602826</td>\n",
       "      <td>|||</td>\n",
       "      <td>und</td>\n",
       "      <td>NaN</td>\n",
       "      <td>NaN</td>\n",
       "      <td>Yearsley, Ann, 1753-1806.</td>\n",
       "      <td>NaN</td>\n",
       "      <td>[Poems on several occasions. [With a prefatory...</td>\n",
       "      <td>The fourth edition. MS. note.</td>\n",
       "      <td>London, 1786.</td>\n",
       "      <td>NaN</td>\n",
       "      <td>NaN</td>\n",
       "      <td>More, Hannah, 1745-1833</td>\n",
       "      <td>NaN</td>\n",
       "      <td>lsidyv3d812d61</td>\n",
       "      <td>poet</td>\n",
       "      <td>Poetry</td>\n",
       "    </tr>\n",
       "    <tr>\n",
       "      <th>1</th>\n",
       "      <td>14602830</td>\n",
       "      <td>|||</td>\n",
       "      <td>und</td>\n",
       "      <td>NaN</td>\n",
       "      <td>NaN</td>\n",
       "      <td>A., T.</td>\n",
       "      <td>NaN</td>\n",
       "      <td>A Satyr against Vertue. (A poem: supposed to b...</td>\n",
       "      <td>NaN</td>\n",
       "      <td>London, 1679.</td>\n",
       "      <td>NaN</td>\n",
       "      <td>NaN</td>\n",
       "      <td>Oldham, John, 1653-1683.</td>\n",
       "      <td>NaN</td>\n",
       "      <td>lsidyv2eb1b8fa</td>\n",
       "      <td>poet</td>\n",
       "      <td>Poetry</td>\n",
       "    </tr>\n",
       "    <tr>\n",
       "      <th>2</th>\n",
       "      <td>14602831</td>\n",
       "      <td>|||</td>\n",
       "      <td>und</td>\n",
       "      <td>NaN</td>\n",
       "      <td>NaN</td>\n",
       "      <td>NaN</td>\n",
       "      <td>NaN</td>\n",
       "      <td>The Aeronaut, a poem; founded almost entirely,...</td>\n",
       "      <td>NaN</td>\n",
       "      <td>Dublin : Richard Milliken, 1816.</td>\n",
       "      <td>NaN</td>\n",
       "      <td>Dublin (Ireland)</td>\n",
       "      <td>NaN</td>\n",
       "      <td>NaN</td>\n",
       "      <td>lsidyv2eb0f8a4</td>\n",
       "      <td>poet</td>\n",
       "      <td>Poetry</td>\n",
       "    </tr>\n",
       "  </tbody>\n",
       "</table>\n",
       "</div>"
      ],
      "text/plain": [
       "   Aleph system no. Country code Language code (008) Language code (041)  DDC  \\\n",
       "0          14602826          |||                 und                 NaN  NaN   \n",
       "1          14602830          |||                 und                 NaN  NaN   \n",
       "2          14602831          |||                 und                 NaN  NaN   \n",
       "\n",
       "             Personal author Corporate author  \\\n",
       "0  Yearsley, Ann, 1753-1806.              NaN   \n",
       "1                     A., T.              NaN   \n",
       "2                        NaN              NaN   \n",
       "\n",
       "                                               Title  \\\n",
       "0  [Poems on several occasions. [With a prefatory...   \n",
       "1  A Satyr against Vertue. (A poem: supposed to b...   \n",
       "2  The Aeronaut, a poem; founded almost entirely,...   \n",
       "\n",
       "                         Edition                           Imprint Series  \\\n",
       "0  The fourth edition. MS. note.                     London, 1786.    NaN   \n",
       "1                            NaN                     London, 1679.    NaN   \n",
       "2                            NaN  Dublin : Richard Milliken, 1816.    NaN   \n",
       "\n",
       "           Subjects    Other personal authors Other corporate authors  \\\n",
       "0               NaN   More, Hannah, 1745-1833                     NaN   \n",
       "1               NaN  Oldham, John, 1653-1683.                     NaN   \n",
       "2  Dublin (Ireland)                       NaN                     NaN   \n",
       "\n",
       "           DOM ID  Type   Genre  \n",
       "0  lsidyv3d812d61  poet  Poetry  \n",
       "1  lsidyv2eb1b8fa  poet  Poetry  \n",
       "2  lsidyv2eb0f8a4  poet  Poetry  "
      ]
     },
     "execution_count": 3,
     "metadata": {},
     "output_type": "execute_result"
    }
   ],
   "source": [
    "df.head(3)"
   ]
  },
  {
   "cell_type": "code",
   "execution_count": 4,
   "metadata": {},
   "outputs": [
    {
     "data": {
      "text/plain": [
       "eng    19250\n",
       "und    18877\n",
       "fre     3833\n",
       "ger     3161\n",
       "spa      769\n",
       "ita      642\n",
       "rus      582\n",
       "mul      576\n",
       "dut      551\n",
       "hun      256\n",
       "swe      244\n",
       "dan      231\n",
       "pol      175\n",
       "por       75\n",
       "lat       74\n",
       "cze       58\n",
       "gre       45\n",
       "fin       19\n",
       "scc       12\n",
       "gle        5\n",
       "rum        3\n",
       "ice        3\n",
       "lit        3\n",
       "scr        3\n",
       "slv        2\n",
       "bul        2\n",
       "slo        2\n",
       "nno        2\n",
       "Name: Language code (008), dtype: int64"
      ]
     },
     "execution_count": 4,
     "metadata": {},
     "output_type": "execute_result"
    }
   ],
   "source": [
    "df[\"Language code (008)\"].value_counts()"
   ]
  },
  {
   "cell_type": "code",
   "execution_count": 5,
   "metadata": {},
   "outputs": [
    {
     "data": {
      "text/plain": [
       "Prose     10532\n",
       "Poetry     6150\n",
       "Drama      1647\n",
       "Music       980\n",
       "Name: Genre, dtype: int64"
      ]
     },
     "execution_count": 5,
     "metadata": {},
     "output_type": "execute_result"
    }
   ],
   "source": [
    "df[\"Genre\"].value_counts()"
   ]
  },
  {
   "cell_type": "code",
   "execution_count": 6,
   "metadata": {},
   "outputs": [],
   "source": [
    "df_eng = df[df[\"Language code (008)\"] == \"eng\"]"
   ]
  },
  {
   "cell_type": "code",
   "execution_count": 7,
   "metadata": {},
   "outputs": [
    {
     "data": {
      "text/plain": [
       "Prose     3795\n",
       "Poetry     876\n",
       "Music      192\n",
       "Drama      124\n",
       "Name: Genre, dtype: int64"
      ]
     },
     "execution_count": 7,
     "metadata": {},
     "output_type": "execute_result"
    }
   ],
   "source": [
    "df_eng[\"Genre\"].value_counts()"
   ]
  },
  {
   "cell_type": "code",
   "execution_count": 8,
   "metadata": {},
   "outputs": [],
   "source": [
    "how_many = 120\n",
    "\n",
    "df_prose = df_eng[df_eng[\"Genre\"] == \"Prose\"].sample(how_many, random_state=42)\n",
    "df_poetry = df_eng[df_eng[\"Genre\"] == \"Poetry\"].sample(how_many, random_state=42)\n",
    "df_music = df_eng[df_eng[\"Genre\"] == \"Music\"].sample(how_many, random_state=42)\n",
    "df_drama = df_eng[df_eng[\"Genre\"] == \"Drama\"].sample(how_many, random_state=42)\n",
    "\n",
    "df_sampled = pd.concat([df_prose,df_poetry,df_music,df_drama])"
   ]
  },
  {
   "cell_type": "code",
   "execution_count": 9,
   "metadata": {},
   "outputs": [
    {
     "data": {
      "text/plain": [
       "Aleph system no.           480\n",
       "Country code               480\n",
       "Language code (008)        480\n",
       "Language code (041)          1\n",
       "DDC                          0\n",
       "Personal author            408\n",
       "Corporate author            10\n",
       "Title                      480\n",
       "Edition                     52\n",
       "Imprint                    480\n",
       "Series                       3\n",
       "Subjects                    26\n",
       "Other personal authors     127\n",
       "Other corporate authors      0\n",
       "DOM ID                     480\n",
       "Type                       480\n",
       "Genre                      480\n",
       "dtype: int64"
      ]
     },
     "execution_count": 9,
     "metadata": {},
     "output_type": "execute_result"
    }
   ],
   "source": [
    "df_sampled.count()"
   ]
  },
  {
   "cell_type": "code",
   "execution_count": 10,
   "metadata": {},
   "outputs": [],
   "source": [
    "# take the first pdf for every book\n",
    "\n",
    "df_sampled[\"first_pdf\"] = df_sampled[\"DOM ID\"].apply(lambda x: x.split(\" -- \")[0])"
   ]
  },
  {
   "cell_type": "code",
   "execution_count": 11,
   "metadata": {},
   "outputs": [],
   "source": [
    "pdfs = df_sampled[\"first_pdf\"].values"
   ]
  },
  {
   "cell_type": "code",
   "execution_count": 14,
   "metadata": {},
   "outputs": [],
   "source": [
    "# load metadata\n",
    "\n",
    "metadata_file = \"book_data.json\"\n",
    "meta = json.load(open(metadata_file))\n",
    "meta = [b for b in meta if \"pdf\" in b.keys()]"
   ]
  },
  {
   "cell_type": "code",
   "execution_count": 15,
   "metadata": {},
   "outputs": [],
   "source": [
    "# update pdf ids which are set to 0 if there is only one pdf, and to 1+ if there is more than one..\n",
    "\n",
    "def correct_pdf_ids(book):\n",
    "    if \"0\" in book[\"pdf\"].keys():\n",
    "        book[\"pdf\"][\"1\"] = book[\"pdf\"][\"0\"]\n",
    "        book[\"pdf\"].pop(\"0\", None)\n",
    "_ = [b for b in map(correct_pdf_ids, meta)]"
   ]
  },
  {
   "cell_type": "code",
   "execution_count": 16,
   "metadata": {},
   "outputs": [
    {
     "data": {
      "text/plain": [
       "{'datefield': '[1888]',\n",
       " 'imgs': {'0': {'000006': ['11193640604'],\n",
       "   '000021': ['11291327843'],\n",
       "   '000004': ['11194557546'],\n",
       "   '000016': ['11195895503'],\n",
       "   '000011': ['11193211526'],\n",
       "   '000010': ['11105407186', '11102797916'],\n",
       "   '000012': ['11290477144'],\n",
       "   '000037': ['11290757205'],\n",
       "   '000035': ['11290567494'],\n",
       "   '000027': ['11196186866'],\n",
       "   '000033': ['11193563513'],\n",
       "   '000032': ['11105696613'],\n",
       "   '000031': ['11289757376'],\n",
       "   '000030': ['11289521295'],\n",
       "   '000023': ['11289589926'],\n",
       "   '000014': ['11291300706'],\n",
       "   '000015': ['11100321335'],\n",
       "   '000024': ['11291438044'],\n",
       "   '000007': ['11104733396'],\n",
       "   '000025': ['11289879506']}},\n",
       " 'shelfmarks': ['British Library HMNTS 10347.cc.13.(4.)'],\n",
       " 'publisher': 'A. Heywood & Son',\n",
       " 'title': ['A Gossip about Old Manchester. With illustrations. [Signed: A.]'],\n",
       " 'edition': '',\n",
       " 'flickr_url_to_book_images': 'http://www.flickr.com/photos/britishlibrary/tags/sysnum000000037',\n",
       " 'place': 'Manchester',\n",
       " 'issuance': 'monographic',\n",
       " 'authors': {},\n",
       " 'date': '1888',\n",
       " 'pdf': {'1': 'lsidyv3bd2589c'},\n",
       " 'identifier': '000000037',\n",
       " 'corporate': {}}"
      ]
     },
     "execution_count": 16,
     "metadata": {},
     "output_type": "execute_result"
    }
   ],
   "source": [
    "meta[0]"
   ]
  },
  {
   "cell_type": "code",
   "execution_count": 19,
   "metadata": {},
   "outputs": [],
   "source": [
    "# pick only the sampled books\n",
    "\n",
    "meta_sampled = [b for b in meta if (\"1\" in b[\"pdf\"].keys()) and (b[\"pdf\"][\"1\"] in pdfs)]"
   ]
  },
  {
   "cell_type": "code",
   "execution_count": 20,
   "metadata": {},
   "outputs": [
    {
     "data": {
      "text/plain": [
       "452"
      ]
     },
     "execution_count": 20,
     "metadata": {},
     "output_type": "execute_result"
    }
   ],
   "source": [
    "len(meta_sampled)"
   ]
  },
  {
   "cell_type": "code",
   "execution_count": 24,
   "metadata": {},
   "outputs": [],
   "source": [
    "# get the full text files\n",
    "\n",
    "local_folder = \"sample\"\n",
    "remote_folder = \"../BL_books/json\" # add yours\n",
    "\n",
    "for book in meta_sampled:\n",
    "    foldername = book[\"identifier\"][:4]\n",
    "    filename = book[\"identifier\"]+\"_01_text.json\"\n",
    "    remote_filename = os.path.join(remote_folder, foldername, filename)\n",
    "    book[\"fulltext_filename\"] = os.path.join(local_folder, \"full_texts\", filename)\n",
    "    shutil.copyfile(remote_filename, book[\"fulltext_filename\"])"
   ]
  },
  {
   "cell_type": "code",
   "execution_count": 31,
   "metadata": {},
   "outputs": [],
   "source": [
    "# export metadata for the sample\n",
    "\n",
    "json.dump(meta_sampled, codecs.open(os.path.join(local_folder, \"book_data_sample.json\"), \"w\", \"utf8\"))\n",
    "df_sampled.to_csv(codecs.open(os.path.join(local_folder, \"MicrosoftBooks_filtered_list_sample.csv\"), \"w\", \"utf8\"), index=False, sep=\";\")"
   ]
  },
  {
   "cell_type": "code",
   "execution_count": null,
   "metadata": {},
   "outputs": [],
   "source": []
  }
 ],
 "metadata": {
  "kernelspec": {
   "display_name": "Python 3",
   "language": "python",
   "name": "python3"
  },
  "language_info": {
   "codemirror_mode": {
    "name": "ipython",
    "version": 3
   },
   "file_extension": ".py",
   "mimetype": "text/x-python",
   "name": "python",
   "nbconvert_exporter": "python",
   "pygments_lexer": "ipython3",
   "version": "3.7.3"
  }
 },
 "nbformat": 4,
 "nbformat_minor": 2
}
